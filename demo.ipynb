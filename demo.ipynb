{
 "cells": [
  {
   "cell_type": "markdown",
   "id": "embedded-boundary",
   "metadata": {
    "slideshow": {
     "slide_type": "-"
    }
   },
   "source": [
    "# FuncADL: Functional Analysis Description Language"
   ]
  },
  {
   "cell_type": "markdown",
   "id": "76678f48",
   "metadata": {},
   "source": [
    "## Motivation"
   ]
  },
  {
   "cell_type": "markdown",
   "id": "bdf62bc9",
   "metadata": {},
   "source": [
    "### Query languages\n",
    "\n",
    "Database management systems help to address, among other issues:\n",
    "\n",
    "- data independence\n",
    "  - The concept that the physical schema of data (how the data is actually stored--file format, file location, storage medium) is independent from the logical schema (what is stored--floating point numbers representing the $p_T$ in GeV of each muon in each event). Therefore the way that you specify or *query* data should not be tied to any of the details of physical schema. In other words, the query should look exactly the same whether the data is in a ROOT file on the LHC computing grid or in a Parquet file stored on your local drive. This has certainly not been the case for most HEP software.\n",
    "- data redundancy\n",
    "  - Storing multiple indpendent copies of the same data. We see this all the time in HEP, mainly due to file formats at different levels of event detail (original AODs vs. DAODs in ATLAS, MiniAODs vs. NanoAODs in CMS, etc.) Storage requirements increase linearly with more copies of data. In addition, the more independent copies that exist of data, the more complicated it becomes to make sure they all match. In a good database system, data may be *physically* backed up with multiple copies, but there is only ever one *logical* version of the data. When you execute a query, you're not making a brand new copy of the data that then has to be maintained; you just get a *view* of the data as stored in the database.\n",
    "  \n",
    "A key aspect of database management is query languages, such as SQL."
   ]
  },
  {
   "cell_type": "markdown",
   "id": "8444d027",
   "metadata": {},
   "source": [
    "### Functional languages\n",
    "\n",
    "Functional programming offers several desirable features for physics analyses:\n",
    "  - Declarative: Effectively the code equivalent of \"independence\"--*what* the code does can and should be separated from *how* the system does it. Instead of explicitly telling the computer to loop over each event, to loop over each muon in the event, and then to access the $p_T$ for each muon, you can just *declare* what you actually want: the $p_T$ of all muons. The program executing this query is free to get this information however it chooses. Similar to a compiler, the execution engine can be designed to fully optimize the actual IO and computation necessary to perform the query. In this way, a physicist just running an analysis doesn't need to worry about caching or advanced CPU instructions to benefit from the advantages they can provide.\n",
    "  - Stateless: Pure functional languages have no \"side effects\". Modifying a global variable is an example of a side effect; it changes the global state. If there is no state, the result of a particular function is always exactly the same, regardless of where it is in the code. Thus the operations performed by a function are truly independent from any other function that it doesn't call.\n",
    "  - Lazy: As in lazy execution. A query is itself a well-defined object, simply containing instructions (a *function*) for what to do with data. You can pass around and compose queries before even having access to the data it will run on. A query isn't actually executed until necessary."
   ]
  },
  {
   "cell_type": "markdown",
   "id": "13c0d56c",
   "metadata": {},
   "source": [
    "Both of these concepts (query languages and functional languages) lead to more modular code:\n",
    "  - Insulate analysis code from data storage location and file format\n",
    "  - Insulate each section of code from other parts of the code"
   ]
  },
  {
   "cell_type": "markdown",
   "id": "ca665a99",
   "metadata": {},
   "source": [
    "FuncADL is a functional data query language using Python as a host language, based on [LINQ](https://docs.microsoft.com/en-us/dotnet/csharp/programming-guide/concepts/linq/), a collection of features built into C#."
   ]
  },
  {
   "cell_type": "markdown",
   "id": "stuck-battle",
   "metadata": {},
   "source": [
    "## Module setup"
   ]
  },
  {
   "cell_type": "markdown",
   "id": "b3228acb",
   "metadata": {},
   "source": [
    "I'll use standard Matplotlib to make plots:"
   ]
  },
  {
   "cell_type": "code",
   "execution_count": 97,
   "id": "5b2a2f8e",
   "metadata": {},
   "outputs": [],
   "source": [
    "import matplotlib.pyplot as plt\n",
    "plt.rcParams['figure.dpi'] = 200 # make figures bigger and more readable"
   ]
  },
  {
   "cell_type": "markdown",
   "id": "01041d62",
   "metadata": {},
   "source": [
    "The object we need to run FuncADL locally is `UprootDataset`:"
   ]
  },
  {
   "cell_type": "code",
   "execution_count": 98,
   "id": "practical-designer",
   "metadata": {},
   "outputs": [],
   "source": [
    "from func_adl_uproot import UprootDataset"
   ]
  },
  {
   "cell_type": "markdown",
   "id": "91f8a79e",
   "metadata": {},
   "source": [
    "This explicitly tells FuncADL that we want to use the Uproot-based backend."
   ]
  },
  {
   "cell_type": "markdown",
   "id": "received-tourism",
   "metadata": {},
   "source": [
    "## Dataset"
   ]
  },
  {
   "cell_type": "markdown",
   "id": "28ee95c0",
   "metadata": {},
   "source": [
    "The dataset I use here is CMS open data converted to NanoAOD format, available via xrootd. `UprootDataset` expects a file location and a tree name:"
   ]
  },
  {
   "cell_type": "code",
   "execution_count": 99,
   "id": "descending-asbestos",
   "metadata": {},
   "outputs": [],
   "source": [
    "ds = UprootDataset('Run2012B_SingleMu_10000.root', 'Events')"
   ]
  },
  {
   "cell_type": "markdown",
   "id": "303fde7a",
   "metadata": {},
   "source": [
    "Now we have a dataset ready to run FuncADL queries on."
   ]
  },
  {
   "cell_type": "markdown",
   "id": "2df5c538",
   "metadata": {},
   "source": [
    "## Writing queries"
   ]
  },
  {
   "cell_type": "markdown",
   "id": "7c0f411b",
   "metadata": {},
   "source": [
    "In the rest of the notebook, I'll be introducing new query operators and then showing how they apply to some [benchmark tasks](https://github.com/iris-hep/adl-benchmarks-index) that have been developed by the HEP Software Foundation and IRIS-HEP to demonstrate the core functionality of different analysis description languages."
   ]
  },
  {
   "cell_type": "markdown",
   "id": "abeca8fe",
   "metadata": {},
   "source": [
    "## Some basics"
   ]
  },
  {
   "cell_type": "markdown",
   "id": "02e0d064",
   "metadata": {},
   "source": [
    "The most important thing to understand is that nearly everything in FuncADL is simply treated as a sequence of elements. Arrays are sequences of rows. For example, the dataset object is just a sequence of event objects. An event object is a dictionary containing all of the properties of the event, whose values either are primitive types like `int`s or `float`s or are sequences themselves. Thus almost all FuncADL operators expect to act on a sequence."
   ]
  },
  {
   "cell_type": "markdown",
   "id": "8a345bc3",
   "metadata": {},
   "source": [
    "## Select\n",
    "\n",
    "The most common operator is `Select`. `Select` transforms each element of a sequence according to some predicate function and returns the sequence formed by all the tranformed elements. It's basically a generic `map()`.\n",
    "\n",
    "Visually, it does this:\n",
    "\n",
    "```\n",
    "[1, 2, 3].Select(lambda x: x + 1) -> [2, 3, 4]\n",
    "```\n",
    "\n",
    "This operator is all we need for the first benchmark task."
   ]
  },
  {
   "cell_type": "markdown",
   "id": "civil-humanitarian",
   "metadata": {},
   "source": [
    "## Task 1: Plot the <i>E</i><sub>T</sub><sup>miss</sup> of all events."
   ]
  },
  {
   "cell_type": "markdown",
   "id": "2fe0efb4",
   "metadata": {},
   "source": [
    "MET is in the branch `MET_pt`."
   ]
  },
  {
   "cell_type": "code",
   "execution_count": 100,
   "id": "amateur-ethics",
   "metadata": {},
   "outputs": [],
   "source": [
    "missing_ET_query = ds.Select(lambda event: event.MET_pt)"
   ]
  },
  {
   "cell_type": "markdown",
   "id": "958b9465",
   "metadata": {},
   "source": [
    "This didn't actually do anything yet. FuncADL uses delayed execution, so the value won't be calculated until we run `.value()`:"
   ]
  },
  {
   "cell_type": "code",
   "execution_count": 101,
   "id": "private-mentor",
   "metadata": {},
   "outputs": [
    {
     "name": "stdout",
     "output_type": "stream",
     "text": [
      "CPU times: user 131 ms, sys: 0 ns, total: 131 ms\n",
      "Wall time: 128 ms\n"
     ]
    }
   ],
   "source": [
    "%%time\n",
    "\n",
    "missing_ET = missing_ET_query.value()"
   ]
  },
  {
   "cell_type": "markdown",
   "id": "1db43cfa",
   "metadata": {},
   "source": [
    "Now we've actually stored the result:"
   ]
  },
  {
   "cell_type": "code",
   "execution_count": 102,
   "id": "dc966d5f",
   "metadata": {},
   "outputs": [
    {
     "data": {
      "text/plain": [
       "<Array [22.2, 13.9, 15, ... 14.4, 26.5, 19.3] type='10000 * float32'>"
      ]
     },
     "execution_count": 102,
     "metadata": {},
     "output_type": "execute_result"
    }
   ],
   "source": [
    "missing_ET"
   ]
  },
  {
   "cell_type": "markdown",
   "id": "b0c35415",
   "metadata": {},
   "source": [
    "And we can plot it:"
   ]
  },
  {
   "cell_type": "code",
   "execution_count": 103,
   "id": "previous-compact",
   "metadata": {},
   "outputs": [
    {
     "data": {
      "image/png": "[encoded data removed]",
      "text/plain": [
       "<Figure size 1200x800 with 1 Axes>"
      ]
     },
     "metadata": {
      "needs_background": "light"
     },
     "output_type": "display_data"
    }
   ],
   "source": [
    "plt.hist([missing_ET], bins=100, range=(0, 100))\n",
    "plt.xlabel(r'$E_\\mathrm{T}^\\mathrm{miss}$ [GeV]')\n",
    "plt.ylabel('Events')\n",
    "plt.show()"
   ]
  },
  {
   "cell_type": "markdown",
   "id": "6a7528f2",
   "metadata": {},
   "source": [
    "## SelectMany"
   ]
  },
  {
   "cell_type": "markdown",
   "id": "e935fd8f",
   "metadata": {},
   "source": [
    "`SelectMany` is an operator that starts by doing exactly the same thing as `Select`, but it assumes that each element in the sequence gets mapped to a sequence itself, and after performing the mapping, it concatenates all of these sequences.\n",
    "\n",
    "Visually:\n",
    "\n",
    "```\n",
    "[1, 2, 3].SelectMany(lambda x: [x - 1, x + 1]) -> [0, 2, 1, 3, 2, 4]\n",
    "```\n",
    "\n",
    "In the intermiate step, `SelectMany` forms the sequence `[0, 2], [1, 3], [2, 4]` and then concatenates all of these together.\n",
    "\n",
    "Often this operator is used when the elements were already sequences, so that we can just flatten an array:\n",
    "\n",
    "```\n",
    "[[1, 2], [3]].SelectMany(lambda s: s) -> [1, 2, 3]\n",
    "```\n",
    "\n",
    "`SelectMany` is the only operator needed for the second task."
   ]
  },
  {
   "cell_type": "markdown",
   "id": "entitled-villa",
   "metadata": {},
   "source": [
    "## Task 2: Plot the <i>p</i><sub>T</sub> of all jets."
   ]
  },
  {
   "cell_type": "code",
   "execution_count": 104,
   "id": "fuzzy-eight",
   "metadata": {},
   "outputs": [],
   "source": [
    "jet_pT = ds.SelectMany(lambda event: event.Jet_pt).value()"
   ]
  },
  {
   "cell_type": "code",
   "execution_count": 105,
   "id": "headed-compound",
   "metadata": {},
   "outputs": [
    {
     "data": {
      "text/plain": [
       "<Array [71.7, 27.8, 23.2, ... 30.2, 22.6, 21.6] type='16840 * float32'>"
      ]
     },
     "execution_count": 105,
     "metadata": {},
     "output_type": "execute_result"
    }
   ],
   "source": [
    "jet_pT"
   ]
  },
  {
   "cell_type": "markdown",
   "id": "f0a5cf0c",
   "metadata": {},
   "source": [
    "Note the difference between the above result and the unflattened result we'd get from just `Select`:"
   ]
  },
  {
   "cell_type": "code",
   "execution_count": 106,
   "id": "2014f8e4",
   "metadata": {},
   "outputs": [
    {
     "data": {
      "text/plain": [
       "<Array [[71.7, 27.8], [23.2, ... 21.6], [], []] type='10000 * var * float32'>"
      ]
     },
     "execution_count": 106,
     "metadata": {},
     "output_type": "execute_result"
    }
   ],
   "source": [
    "ds.Select(lambda event: event.Jet_pt).value()"
   ]
  },
  {
   "cell_type": "markdown",
   "id": "df734aea",
   "metadata": {},
   "source": [
    "This is a sequence of sequences--a jagged array. In principle we could have used this for this particular task; we just would have needed to manually call `ak.flatten` on the array afterwards."
   ]
  },
  {
   "cell_type": "markdown",
   "id": "4e0eb6fe",
   "metadata": {},
   "source": [
    "Now we can plot the `SelectMany` result:"
   ]
  },
  {
   "cell_type": "code",
   "execution_count": 107,
   "id": "found-horizon",
   "metadata": {},
   "outputs": [
    {
     "data": {
      "image/png": "[encoded data removed]",
      "text/plain": [
       "<Figure size 1200x800 with 1 Axes>"
      ]
     },
     "metadata": {
      "needs_background": "light"
     },
     "output_type": "display_data"
    }
   ],
   "source": [
    "plt.hist([jet_pT], bins=100, range=(0, 100))\n",
    "plt.xlabel(r'$p_\\mathrm{T}$ [GeV]')\n",
    "plt.ylabel('Jets')\n",
    "plt.show()"
   ]
  },
  {
   "cell_type": "markdown",
   "id": "a61095d1",
   "metadata": {},
   "source": [
    "## Where"
   ]
  },
  {
   "cell_type": "markdown",
   "id": "b23f81a3",
   "metadata": {},
   "source": [
    "With `Select` and `SelectMany`, we can already filter out event properties (branches) that we aren't interested in. But what if we want to filter out certain events or jets? We need to discard elements of a sequence to do this. This is done by the `Where` operator. `Where` applies a boolean-valued function to each element and discards that element if the function returned `False`.\n",
    "\n",
    "Visually, we have:\n",
    "```\n",
    "[1, -2, 3].Where(lambda x: x > 0) -> [1, 3]\n",
    "```"
   ]
  },
  {
   "cell_type": "markdown",
   "id": "ffe586d3",
   "metadata": {},
   "source": [
    "## Zip"
   ]
  },
  {
   "cell_type": "markdown",
   "id": "180725ac",
   "metadata": {},
   "source": [
    "When we start dealing with sequences within events (like jets) in more detail, we'll need to somehow wrap together multiple properties that correspond to the same physical objects. That way when we make a selection cut on jet `pT` for example, we'll be filtering the corresponding `eta`, `phi`, and `mass` values too. To do this, we use the `Zip` operator. `Zip` expects a sequence of sequences, and it will make a new sequence out of all the elements at each particular index of the sequences. In other words, it transposes the matrix formed by the input sequences.\n",
    "\n",
    "So this looks like:\n",
    "```\n",
    "[[1, 3, 5], [2, 4, 6]].Zip() -> [[1, 2], [3, 4], [5, 6]]\n",
    "```\n",
    "\n",
    "But usually this is actually done with a dictionary, which is just a special type of sequence:\n",
    "```\n",
    "{'a': [1, 3, 5], 'b': [2, 4, 6]}.Zip() -> [{'a': 1, 'b': 2}, {'a': 3, 'b': 4}, {'a': 5, 'b': 6}]\n",
    "```\n",
    "\n",
    "In `awkward` language, this turns a record of arrays into an array of records.\n",
    "\n",
    "The next task requires looking a jet variable other than the one used for filtering, so we can use `Zip` here."
   ]
  },
  {
   "cell_type": "markdown",
   "id": "isolated-arabic",
   "metadata": {},
   "source": [
    "## Task 3: Plot the <i>p</i><sub>T</sub> of jets with |<i>η</i>| < 1."
   ]
  },
  {
   "cell_type": "code",
   "execution_count": 108,
   "id": "polish-bradley",
   "metadata": {},
   "outputs": [],
   "source": [
    "filtered_jet_pT = ds.SelectMany(lambda event: {'pT': event.Jet_pt, 'eta': event.Jet_eta}.Zip()\n",
    "                                              .Where(lambda jet: abs(jet.eta) < 1)\n",
    "                                              .Select(lambda jet: jet.pT)).value()"
   ]
  },
  {
   "cell_type": "markdown",
   "id": "b12307ce",
   "metadata": {},
   "source": [
    "Note that builtin functions like `abs` are allowed in queries."
   ]
  },
  {
   "cell_type": "code",
   "execution_count": 109,
   "id": "sunset-miracle",
   "metadata": {},
   "outputs": [
    {
     "data": {
      "text/plain": [
       "<Array [27.8, 17.4, 33.7, ... 31.6, 30.2, 22.6] type='6436 * float32'>"
      ]
     },
     "execution_count": 109,
     "metadata": {},
     "output_type": "execute_result"
    }
   ],
   "source": [
    "filtered_jet_pT"
   ]
  },
  {
   "cell_type": "code",
   "execution_count": 110,
   "id": "enhanced-voluntary",
   "metadata": {},
   "outputs": [
    {
     "data": {
      "image/png": "[encoded data removed]",
      "text/plain": [
       "<Figure size 1200x800 with 1 Axes>"
      ]
     },
     "metadata": {
      "needs_background": "light"
     },
     "output_type": "display_data"
    }
   ],
   "source": [
    "plt.hist([filtered_jet_pT], bins=100, range=(0, 100))\n",
    "plt.xlabel(r'$p_\\mathrm{T}$ [GeV]')\n",
    "plt.ylabel('Jets')\n",
    "plt.show()"
   ]
  },
  {
   "cell_type": "markdown",
   "id": "0b34faff",
   "metadata": {},
   "source": [
    "## Count"
   ]
  },
  {
   "cell_type": "markdown",
   "id": "5921e57d",
   "metadata": {},
   "source": [
    "Next we're going to need to filter based on a discrete number of objects passing some cut. `Count` is an operator that takes a sequence and just returns a scalar--the length of the sequence.\n",
    "\n",
    "```\n",
    "[0, 2, 5].Count() -> 3\n",
    "```"
   ]
  },
  {
   "cell_type": "markdown",
   "id": "crude-blowing",
   "metadata": {},
   "source": [
    "## Task 4: Plot the <i>E</i><sub>T</sub><sup>miss</sup> of events that have at least two jets with <i>p</i><sub>T</sub> > 40 GeV."
   ]
  },
  {
   "cell_type": "code",
   "execution_count": 111,
   "id": "nasty-memphis",
   "metadata": {},
   "outputs": [],
   "source": [
    "filtered_missing_ET_4 = ds.Where(lambda event: event.Jet_pt.Where(lambda pT: pT > 40).Count() >= 2)\\\n",
    "                          .Select(lambda event: event.MET_pt).value()"
   ]
  },
  {
   "cell_type": "code",
   "execution_count": 112,
   "id": "polish-raising",
   "metadata": {},
   "outputs": [
    {
     "data": {
      "text/plain": [
       "<Array [15, 44.7, 30.5, ... 22, 18.7, 19.2] type='1161 * float32'>"
      ]
     },
     "execution_count": 112,
     "metadata": {},
     "output_type": "execute_result"
    }
   ],
   "source": [
    "filtered_missing_ET_4"
   ]
  },
  {
   "cell_type": "code",
   "execution_count": 113,
   "id": "conditional-proceeding",
   "metadata": {},
   "outputs": [
    {
     "data": {
      "image/png": "[encoded data removed]",
      "text/plain": [
       "<Figure size 1200x800 with 1 Axes>"
      ]
     },
     "metadata": {
      "needs_background": "light"
     },
     "output_type": "display_data"
    }
   ],
   "source": [
    "plt.hist([filtered_missing_ET_4], bins=100, range=(0, 100))\n",
    "plt.xlabel(r'$E_\\mathrm{T}^\\mathrm{miss}$ [GeV]')\n",
    "plt.ylabel('Events')\n",
    "plt.show()"
   ]
  },
  {
   "cell_type": "markdown",
   "id": "59ca692c",
   "metadata": {},
   "source": [
    "## Choose"
   ]
  },
  {
   "cell_type": "markdown",
   "id": "f56c11da",
   "metadata": {},
   "source": [
    "Dealing with combinatorics is a common issue in HEP analyses. `Choose` is an operator that takes a sequence and produces all combinations of a given number of elements (think \"n choose k\" like $\\binom{n}{k}$).\n",
    "\n",
    "```\n",
    "[1, 2, 3].Choose(2) -> [[1, 2], [1, 3], [2, 3]]\n",
    "```"
   ]
  },
  {
   "cell_type": "markdown",
   "id": "c64832c5",
   "metadata": {},
   "source": [
    "## ToFourMomenta"
   ]
  },
  {
   "cell_type": "markdown",
   "id": "aafa6a18",
   "metadata": {},
   "source": [
    "Dealing with four-vectors is another nearly ubiquitous aspect of HEP analysis, but ntuples usually have the components of vectors in seperate `float` branches, rather than as four-vector objects. To accomodate this in `func_adl_uproot`, I've added a `ToFourMomenta` operator that uses scikit-hep/vector to create the vector objects and perform four-vector operations within FuncADL.\n",
    "\n",
    "```\n",
    "[{'pt': pt1, 'eta': eta1, 'phi': phi1', 'mass': mass1},\n",
    " {'pt': pt2, 'eta': eta2, 'phi': phi2', 'mass': mass2},\n",
    " ...].ToFourMomenta() -> [four_vector1, four_vector2, ...]\n",
    "```"
   ]
  },
  {
   "cell_type": "markdown",
   "id": "ranking-lawyer",
   "metadata": {},
   "source": [
    "## Task 5: Plot the <i>E</i><sub>T</sub><sup>miss</sup> of events that have an opposite-charge muon pair with an invariant mass between 60 and 120 GeV."
   ]
  },
  {
   "cell_type": "code",
   "execution_count": 114,
   "id": "7205d6d9",
   "metadata": {},
   "outputs": [],
   "source": [
    "filtered_missing_ET_5 = ds.Where(lambda event: Zip({'p4': Zip({'pt':   event.Muon_pt,\n",
    "                                                               'eta':  event.Muon_eta,\n",
    "                                                               'phi':  event.Muon_phi,\n",
    "                                                               'mass': event.Muon_mass}).ToFourMomenta(),\n",
    "                                                    'charge': event.Muon_charge})\n",
    "                                               .Choose(2)\n",
    "                                               .Where(lambda pair: pair[0].charge * pair[1].charge < 0)\n",
    "                                               .Select(lambda pair: (pair[0].p4 + pair[1].p4).mass)\n",
    "                                               .Where(lambda mass: 60 < mass and mass < 120)\n",
    "                                               .Count() > 0\n",
    "                                ).Select(lambda event: event.MET_pt).value()"
   ]
  },
  {
   "cell_type": "code",
   "execution_count": 115,
   "id": "fce70b57",
   "metadata": {},
   "outputs": [
    {
     "data": {
      "text/plain": [
       "<Array [18.7, 13.3, 4.42, ... 13.2, 18.4, 7.06] type='543 * float32'>"
      ]
     },
     "execution_count": 115,
     "metadata": {},
     "output_type": "execute_result"
    }
   ],
   "source": [
    "filtered_missing_ET_5"
   ]
  },
  {
   "cell_type": "code",
   "execution_count": 116,
   "id": "c7812a97",
   "metadata": {},
   "outputs": [
    {
     "data": {
      "image/png": "[encoded data removed]",
      "text/plain": [
       "<Figure size 1200x800 with 1 Axes>"
      ]
     },
     "metadata": {
      "needs_background": "light"
     },
     "output_type": "display_data"
    }
   ],
   "source": [
    "plt.hist([filtered_missing_ET_5], bins=100, range=(0, 100))\n",
    "plt.xlabel(r'$E_\\mathrm{T}^\\mathrm{miss}$ [GeV]')\n",
    "plt.ylabel('Events')\n",
    "plt.show()"
   ]
  },
  {
   "cell_type": "markdown",
   "id": "a1b312a4",
   "metadata": {},
   "source": [
    "## OrderBy"
   ]
  },
  {
   "cell_type": "markdown",
   "id": "af28ad63",
   "metadata": {},
   "source": [
    "Sorting can be accomplished with `OrderBy` or `OrderByDescending`. These operators use the provided function to calculate the key to sort elements by.\n",
    "\n",
    "```\n",
    "[3, 1, 2].OrderBy(lambda x: x) -> [1, 2, 3]\n",
    "[3, 1, 2].OrderBy(lambda x: -x) -> [3, 2, 1]\n",
    "[3, 1, 2].OrderByDescending(lambda x: x) -> [3, 2, 1]\n",
    "```"
   ]
  },
  {
   "cell_type": "markdown",
   "id": "9ca7ad03",
   "metadata": {},
   "source": [
    "## First"
   ]
  },
  {
   "cell_type": "markdown",
   "id": "3d7c0e68",
   "metadata": {},
   "source": [
    "`x.First()` is a synonym for `x[0]`. It just provides a more readable way to get the first element.\n",
    "\n",
    "```\n",
    "[1, 2, 3].First() -> 1\n",
    "```"
   ]
  },
  {
   "cell_type": "markdown",
   "id": "8d16cfb1",
   "metadata": {},
   "source": [
    "## Task 6: For events with at least three jets, plot the $p_T$ of the trijet four-momentum that has the invariant mass closest to 172.5 GeV in each event."
   ]
  },
  {
   "cell_type": "code",
   "execution_count": 117,
   "id": "f5228404",
   "metadata": {},
   "outputs": [],
   "source": [
    "best_trijet_pt_6 = ds.Where(lambda event: event.nJet >= 3)\\\n",
    "                     .Select(lambda event: {'pt': event.Jet_pt,\n",
    "                                            'eta': event.Jet_eta,\n",
    "                                            'phi': event.Jet_phi,\n",
    "                                            'mass': event.Jet_mass}.Zip().ToFourMomenta()\n",
    "                                           .Choose(3)\n",
    "                                           .Select(lambda triplet: triplet[0] + triplet[1] + triplet[2])\n",
    "                                           .OrderBy(lambda trijet: abs(trijet.m - 172.5))\n",
    "                                           .First()\n",
    "                                           .Select(lambda best_trijet: best_trijet.pt)).value()"
   ]
  },
  {
   "cell_type": "code",
   "execution_count": 118,
   "id": "7a99c05f",
   "metadata": {},
   "outputs": [
    {
     "data": {
      "text/plain": [
       "<Array [26, 33, 21.2, 34.7, ... 63.8, 41, 3.86] type='2660 * float32'>"
      ]
     },
     "execution_count": 118,
     "metadata": {},
     "output_type": "execute_result"
    }
   ],
   "source": [
    "best_trijet_pt_6"
   ]
  },
  {
   "cell_type": "code",
   "execution_count": 119,
   "id": "62e719c4",
   "metadata": {},
   "outputs": [
    {
     "data": {
      "image/png": "[encoded data removed]",
      "text/plain": [
       "<Figure size 1200x800 with 1 Axes>"
      ]
     },
     "metadata": {
      "needs_background": "light"
     },
     "output_type": "display_data"
    }
   ],
   "source": [
    "plt.hist(best_trijet_pt_6, bins=100, range=(0, 100))\n",
    "plt.xlabel(r'Trijet $p_\\mathrm{T}$ [GeV]')\n",
    "plt.ylabel('Events')\n",
    "plt.show()"
   ]
  }
 ],
 "metadata": {
  "kernelspec": {
   "display_name": "Python 3 (ipykernel)",
   "language": "python",
   "name": "python3"
  },
  "language_info": {
   "codemirror_mode": {
    "name": "ipython",
    "version": 3
   },
   "file_extension": ".py",
   "mimetype": "text/x-python",
   "name": "python",
   "nbconvert_exporter": "python",
   "pygments_lexer": "ipython3",
   "version": "3.9.4"
  }
 },
 "nbformat": 4,
 "nbformat_minor": 5
}
